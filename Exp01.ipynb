{
 "cells": [
  {
   "cell_type": "code",
   "execution_count": 6,
   "id": "df08948c",
   "metadata": {
    "height": 115
   },
   "outputs": [],
   "source": [
    "import os\n",
    "import openai\n",
    "\n",
    "from dotenv import load_dotenv, find_dotenv\n",
    "_ = load_dotenv(find_dotenv()) # read local .env file\n",
    "openai.api_key = os.environ['OPENAI_API_KEY']"
   ]
  },
  {
   "cell_type": "code",
   "execution_count": 7,
   "id": "36070c94",
   "metadata": {
    "height": 200
   },
   "outputs": [],
   "source": [
    "import math\n",
    "def calculate_cylinder_volume(radius, height):\n",
    "    \"\"\"\n",
    "    Calculate the volume of a cylinder using the formula:\n",
    "    Volume = π * r^2 * h\n",
    "    \"\"\"\n",
    "    if radius <= 0 or height <= 0:\n",
    "        return \"Radius and height must be positive numbers.\"\n",
    "    \n",
    "    volume = math.pi * (radius ** 2) * height\n",
    "    return round(volume, 2)"
   ]
  },
  {
   "cell_type": "code",
   "execution_count": 8,
   "id": "7fa91f16",
   "metadata": {
    "height": 574
   },
   "outputs": [],
   "source": [
    "def chat_with_openai(prompt):\n",
    "    response = openai.ChatCompletion.create(\n",
    "        model=\"gpt-4\",\n",
    "        messages=[\n",
    "            {\"role\": \"system\", \"content\": \"You are an assistant that helps calculate the volume of a cylinder.\"},\n",
    "            {\"role\": \"user\", \"content\": prompt},\n",
    "        ],\n",
    "        functions=[\n",
    "            {\n",
    "                \"name\": \"calculate_cylinder_volume\",\n",
    "                \"description\": \"Calculate the volume of a cylinder given radius and height.\",\n",
    "                \"parameters\": {\n",
    "                    \"type\": \"object\",\n",
    "                    \"properties\": {\n",
    "                        \"radius\": {\"type\": \"number\", \"description\": \"Radius of the cylinder (in units)\"},\n",
    "                        \"height\": {\"type\": \"number\", \"description\": \"Height of the cylinder (in units)\"},\n",
    "                    },\n",
    "                    \"required\": [\"radius\", \"height\"],\n",
    "                },\n",
    "            }\n",
    "        ],\n",
    "        function_call=\"auto\",  \n",
    "    )\n",
    "    \n",
    "    if \"function_call\" in response[\"choices\"][0][\"message\"]:\n",
    "        function_name = response[\"choices\"][0][\"message\"][\"function_call\"][\"name\"]\n",
    "        arguments = eval(response[\"choices\"][0][\"message\"][\"function_call\"][\"arguments\"])\n",
    "        if function_name == \"calculate_cylinder_volume\":\n",
    "            radius = arguments[\"radius\"]\n",
    "            height = arguments[\"height\"]\n",
    "            return calculate_cylinder_volume(radius, height)\n",
    "    \n",
    "    return response[\"choices\"][0][\"message\"][\"content\"]"
   ]
  },
  {
   "cell_type": "code",
   "execution_count": 9,
   "id": "ecd0f943",
   "metadata": {
    "height": 115
   },
   "outputs": [
    {
     "name": "stdout",
     "output_type": "stream",
     "text": [
      "Enter the radius of the cylinder: 5\n",
      "Enter the height of the cylinder: 8\n",
      "Result: 628.32\n"
     ]
    }
   ],
   "source": [
    "radius = float(input(\"Enter the radius of the cylinder: \"))\n",
    "height = float(input(\"Enter the height of the cylinder: \"))\n",
    "\n",
    "prompt = f\"What is the volume of a cylinder with a radius of {radius} and a height of {height}?\"\n",
    "result = chat_with_openai(prompt)\n",
    "print(\"Result:\", result)"
   ]
  }
 ],
 "metadata": {
  "kernelspec": {
   "display_name": "Python 3 (ipykernel)",
   "language": "python",
   "name": "python3"
  },
  "language_info": {
   "codemirror_mode": {
    "name": "ipython",
    "version": 3
   },
   "file_extension": ".py",
   "mimetype": "text/x-python",
   "name": "python",
   "nbconvert_exporter": "python",
   "pygments_lexer": "ipython3",
   "version": "3.9.19"
  }
 },
 "nbformat": 4,
 "nbformat_minor": 5
}
